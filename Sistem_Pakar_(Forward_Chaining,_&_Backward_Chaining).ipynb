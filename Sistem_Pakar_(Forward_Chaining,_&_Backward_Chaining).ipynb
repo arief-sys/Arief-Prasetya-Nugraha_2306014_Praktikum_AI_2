{
  "nbformat": 4,
  "nbformat_minor": 0,
  "metadata": {
    "colab": {
      "provenance": [],
      "authorship_tag": "ABX9TyOLb/MW4nLnw6kLTJpZkTgX",
      "include_colab_link": true
    },
    "kernelspec": {
      "name": "python3",
      "display_name": "Python 3"
    },
    "language_info": {
      "name": "python"
    }
  },
  "cells": [
    {
      "cell_type": "markdown",
      "metadata": {
        "id": "view-in-github",
        "colab_type": "text"
      },
      "source": [
        "<a href=\"https://colab.research.google.com/github/arief-sys/Arief-Prasetya-Nugraha_2306014_Praktikum_AI_2/blob/main/Sistem_Pakar_(Forward_Chaining%2C_%26_Backward_Chaining).ipynb\" target=\"_parent\"><img src=\"https://colab.research.google.com/assets/colab-badge.svg\" alt=\"Open In Colab\"/></a>"
      ]
    },
    {
      "cell_type": "code",
      "execution_count": 1,
      "metadata": {
        "colab": {
          "base_uri": "https://localhost:8080/"
        },
        "id": "fm9TexhgZph7",
        "outputId": "fd49f23d-277f-40d8-f182-08952c4c78a4"
      },
      "outputs": [
        {
          "output_type": "stream",
          "name": "stdout",
          "text": [
            "Collecting experta\n",
            "  Downloading experta-1.9.4-py3-none-any.whl.metadata (5.0 kB)\n",
            "Collecting frozendict==1.2 (from experta)\n",
            "  Downloading frozendict-1.2.tar.gz (2.6 kB)\n",
            "  Preparing metadata (setup.py) ... \u001b[?25l\u001b[?25hdone\n",
            "Collecting schema==0.6.7 (from experta)\n",
            "  Downloading schema-0.6.7-py2.py3-none-any.whl.metadata (14 kB)\n",
            "Downloading experta-1.9.4-py3-none-any.whl (35 kB)\n",
            "Downloading schema-0.6.7-py2.py3-none-any.whl (14 kB)\n",
            "Building wheels for collected packages: frozendict\n",
            "  Building wheel for frozendict (setup.py) ... \u001b[?25l\u001b[?25hdone\n",
            "  Created wheel for frozendict: filename=frozendict-1.2-py3-none-any.whl size=3149 sha256=3396b528b70a255b03330b969e35b556b2d9e7c43967a7986adbe9a746d29b1a\n",
            "  Stored in directory: /root/.cache/pip/wheels/49/ac/f8/cb8120244e710bdb479c86198b03c7b08c3c2d3d2bf448fd6e\n",
            "Successfully built frozendict\n",
            "Installing collected packages: schema, frozendict, experta\n",
            "  Attempting uninstall: frozendict\n",
            "    Found existing installation: frozendict 2.4.6\n",
            "    Uninstalling frozendict-2.4.6:\n",
            "      Successfully uninstalled frozendict-2.4.6\n",
            "\u001b[31mERROR: pip's dependency resolver does not currently take into account all the packages that are installed. This behaviour is the source of the following dependency conflicts.\n",
            "yfinance 0.2.55 requires frozendict>=2.3.4, but you have frozendict 1.2 which is incompatible.\u001b[0m\u001b[31m\n",
            "\u001b[0mSuccessfully installed experta-1.9.4 frozendict-1.2 schema-0.6.7\n"
          ]
        }
      ],
      "source": [
        "!pip install experta"
      ]
    },
    {
      "cell_type": "code",
      "source": [
        "!pip install --upgrade frozendict"
      ],
      "metadata": {
        "colab": {
          "base_uri": "https://localhost:8080/"
        },
        "id": "YTricRvmZ4sd",
        "outputId": "c0abf1c5-a5ca-49fe-fd78-998b605cb9d5"
      },
      "execution_count": 2,
      "outputs": [
        {
          "output_type": "stream",
          "name": "stdout",
          "text": [
            "Requirement already satisfied: frozendict in /usr/local/lib/python3.11/dist-packages (1.2)\n",
            "Collecting frozendict\n",
            "  Downloading frozendict-2.4.6-py311-none-any.whl.metadata (23 kB)\n",
            "Downloading frozendict-2.4.6-py311-none-any.whl (16 kB)\n",
            "Installing collected packages: frozendict\n",
            "  Attempting uninstall: frozendict\n",
            "    Found existing installation: frozendict 1.2\n",
            "    Uninstalling frozendict-1.2:\n",
            "      Successfully uninstalled frozendict-1.2\n",
            "\u001b[31mERROR: pip's dependency resolver does not currently take into account all the packages that are installed. This behaviour is the source of the following dependency conflicts.\n",
            "experta 1.9.4 requires frozendict==1.2, but you have frozendict 2.4.6 which is incompatible.\u001b[0m\u001b[31m\n",
            "\u001b[0mSuccessfully installed frozendict-2.4.6\n"
          ]
        }
      ]
    },
    {
      "cell_type": "code",
      "source": [
        "from experta import *\n",
        "\n",
        "class Diagnosis(KnowledgeEngine):\n",
        "\n",
        "    @Rule(Fact(cough=True) & Fact(Fever=True) & Fact(Fatigue=True))\n",
        "    def flu(self):\n",
        "      print(\"Diagnosis: You may have the flu.\")\n",
        "\n",
        "    @Rule(Fact(cough=True) & Fact(Fever=True) & Fact(breathing_dificilty=True))\n",
        "    def pneumonia(self):\n",
        "      print(\"Diagnosis: You may have the pneumonia.\")\n",
        "\n",
        "    @Rule(Fact(sneezing=True) & Fact(runny_nose=True) & Fact(cough=True))\n",
        "    def cold(self):\n",
        "      print(\"Diagnosis: You may have a common cold.\")\n",
        "\n",
        "    @Rule(Fact(sore_throat=True) & Fact(fever=True))\n",
        "    def throat_infection(self):\n",
        "      print(\"Diagnosis: You may have a the Throat infection.\")\n",
        "\n",
        "    @Rule(Fact(cough=True) & Fact(fever=True) & Fact(fatigue=True))\n",
        "    def healty(self):\n",
        "      print(\"Diagnosis: You seem to be healty.\")\n",
        "\n",
        "    #tambah 4 diagnosis\n",
        "    @Rule(Fact(cough=True) & Fact(fever=True) & Fact(weight_loss=True) & Fact(night_sweats=True))\n",
        "    def tuberculosis(self):\n",
        "        print(\"Diagnosis: You may have tuberculosis.\")\n",
        "\n",
        "    @Rule(Fact(cough=True) & Fact(fever=True) & Fact(fatigue=True) & Fact(breathing_difficulty=True))\n",
        "    def covid19(self):\n",
        "        print(\"Diagnosis: You may have COVID-19.\")\n",
        "\n",
        "    @Rule(Fact(sneezing=True) & Fact(runny_nose=True) & Fact(itchy_eyes=True))\n",
        "    def allergic_rhinitis(self):\n",
        "        print(\"Diagnosis: You may have allergic rhinitis.\")\n",
        "\n",
        "    @Rule(Fact(cough=True) & Fact(headache=True) & Fact(fever=True) & Fact(facial_pain=True))\n",
        "    def sinusitis(self):\n",
        "        print(\"Diagnosis: You may have sinusitis.\")\n",
        "\n",
        "def get_input():\n",
        "    \"\"\"Helper function to get user input as boolean (yes/no).\"\"\"\n",
        "    def ask_question(question):\n",
        "        return input(question + \"(yes/no) : \").strip().lower() == \"yes\"\n",
        "\n",
        "    return {\n",
        "        \"cough\": ask_question(\"Do you have a cough?\"),\n",
        "        \"fever\": ask_question(\"Do you have a fever?\"),\n",
        "        \"fatigue\": ask_question(\"Do you feel fatigued?\"),\n",
        "        \"breathing_difficulty\": ask_question(\"Do you have breathing difficultie?\"),\n",
        "        \"sneezing\": ask_question(\"Are you sneezing?\"),\n",
        "        \"runny_nose\": ask_question(\"Do you have a runny nose?\"),\n",
        "        \"sore_throat\": ask_question(\"Do you have a sore throat?\"),\n",
        "        \"weight_loss\": ask_question(\"Have you experienced weight loss?\"),\n",
        "        \"night_sweats\": ask_question(\"Do you have night sweats?\"),\n",
        "        \"itchy_eyes\": ask_question(\"Do you have itchy eyes?\"),\n",
        "        \"headache\": ask_question(\"Do you have a headache?\"),\n",
        "        \"facial_pain\": ask_question(\"Do you have facial pain?\")\n",
        "    }\n",
        "\n",
        "#Running the Expert System\n",
        "if __name__ == \"__main__\":\n",
        "    symptoms = get_input()\n",
        "    engine = Diagnosis()\n",
        "    engine.reset() #Reset the knowledge engine\n",
        "\n",
        "    for symptom, present in symptoms.items():\n",
        "      engine.declare(Fact(**{ symptom: present})) #declare facts\n",
        "\n",
        "    engine.run() #run the inference engine"
      ],
      "metadata": {
        "colab": {
          "base_uri": "https://localhost:8080/"
        },
        "id": "um7OVHnnaFOL",
        "outputId": "d11623f4-4e95-4959-9890-308dc93ba531"
      },
      "execution_count": 8,
      "outputs": [
        {
          "output_type": "stream",
          "name": "stdout",
          "text": [
            "Do you have a cough?(yes/no) : yes\n",
            "Do you have a fever?(yes/no) : yes\n",
            "Do you feel fatigued?(yes/no) : yes\n",
            "Do you have breathing difficultie?(yes/no) : yes\n",
            "Are you sneezing?(yes/no) : yes\n",
            "Do you have a runny nose?(yes/no) : yes\n",
            "Do you have a sore throat?(yes/no) : yes\n",
            "Have you experienced weight loss?(yes/no) : yes\n",
            "Do you have night sweats?(yes/no) : yes\n",
            "Do you have itchy eyes?(yes/no) : yes\n",
            "Do you have a headache?(yes/no) : yes\n",
            "Do you have facial pain?(yes/no) : yes\n",
            "Diagnosis: You may have sinusitis.\n",
            "Diagnosis: You may have allergic rhinitis.\n",
            "Diagnosis: You may have tuberculosis.\n",
            "Diagnosis: You may have a the Throat infection.\n",
            "Diagnosis: You may have a common cold.\n",
            "Diagnosis: You may have COVID-19.\n",
            "Diagnosis: You seem to be healty.\n"
          ]
        }
      ]
    },
    {
      "cell_type": "code",
      "source": [
        "from experta import *\n",
        "\n",
        "class SistemPakarMedis(KnowledgeEngine):\n",
        "\n",
        "    @Rule(Fact(demam=True) & Fact(batuk=True))\n",
        "    def flu(self):\n",
        "        print(\"Diagnosis: flu.\")\n",
        "\n",
        "    @Rule(Fact(sakit_tenggorokan=True) & Fact(demam=True))\n",
        "    def throat_infection(self):\n",
        "        print(\"Diagnosis: Radang tenggorokan.\")\n",
        "\n",
        "    @Rule(Fact(nyeri_otot=True) & Fact(nyeri_perut=True))\n",
        "    def hernia(self):\n",
        "        print(\"Diagnosis: Hernia.\")\n",
        "\n",
        "    # Penyakit baru\n",
        "    @Rule(Fact(batuk=True) & Fact(demam=True) & Fact(penurunan_berat_badan=True))\n",
        "    def tbc(self):\n",
        "        print(\"Diagnosis: TBC (Tuberkulosis).\")\n",
        "\n",
        "    @Rule(Fact(batuk=True) & Fact(demam=True) & Fact(kesulitan_bernafas=True))\n",
        "    def pneumonia(self):\n",
        "        print(\"Diagnosis: Pneumonia.\")\n",
        "\n",
        "    @Rule(Fact(sakit_perut=True) & Fact(nyeri_perut=True) & Fact(mual=True))\n",
        "    def gastritis(self):\n",
        "        print(\"Diagnosis: Gastritis (Radang lambung).\")\n",
        "\n",
        "    @Rule(Fact(demam=True) & Fact(batuk_kering=True) & Fact(sesak_bernapas=True) & Fact(kehilangan_penciuman=True))\n",
        "    def covid_19(self):\n",
        "        print(\"Diagnosis: COVID-19.\")\n",
        "\n",
        "#Running the Expert System\n",
        "engine = SistemPakarMedis()\n",
        "engine.reset()\n",
        "engine.declare(Fact(demam=True))\n",
        "engine.declare(Fact(batuk=True)) #input symtoms\n",
        "engine.run()"
      ],
      "metadata": {
        "colab": {
          "base_uri": "https://localhost:8080/"
        },
        "id": "wfFmYC4EaZbX",
        "outputId": "bd90b4ca-1782-4777-a949-cc2d1323f69d"
      },
      "execution_count": 9,
      "outputs": [
        {
          "output_type": "stream",
          "name": "stdout",
          "text": [
            "Diagnosis: flu.\n"
          ]
        }
      ]
    },
    {
      "cell_type": "code",
      "source": [
        "def forward_chaining(facts, rules):\n",
        "    inferred = set(facts)\n",
        "    changed = True\n",
        "\n",
        "    while changed:\n",
        "        changed = False\n",
        "        for rule in rules:\n",
        "          if rule[\"if\"].issubset(inferred) and rule[\"then\"] not in inferred:\n",
        "            inferred.add(rule[\"then\"])\n",
        "            changed = True\n",
        "    return inferred\n",
        "\n",
        "facts = {\"has_wheels\", \"has_engine\", \"has_four_wheels\"}\n",
        "rules = [\n",
        "    {\"if\": {\"has_wheels\", \"has_engine\"}, \"then\": \"is_vehicle\"},\n",
        "    {\"if\": {\"is_vehicle\", \"has_two_wheels\"}, \"then\": \"is_motorcycle\"},\n",
        "    {\"if\": {\"is_vehicle\", \"has_four_wheels\"}, \"then\": \"is_car\"},\n",
        "]\n",
        "\n",
        "result = forward_chaining(facts, rules)\n",
        "print(\"Inferred facts: \", result)"
      ],
      "metadata": {
        "colab": {
          "base_uri": "https://localhost:8080/"
        },
        "id": "Qz9MtwxYaerz",
        "outputId": "7dae937b-0797-453f-8a6b-0ae2beb477c2"
      },
      "execution_count": 6,
      "outputs": [
        {
          "output_type": "stream",
          "name": "stdout",
          "text": [
            "Inferred facts:  {'has_four_wheels', 'has_wheels', 'has_engine', 'is_car', 'is_vehicle'}\n"
          ]
        }
      ]
    },
    {
      "cell_type": "code",
      "source": [
        "def backward_chaining(goal, facts, rules):\n",
        "    if goal in facts:\n",
        "        return True\n",
        "    for rule in rules:\n",
        "        if rule[\"then\"] == goal:\n",
        "            if all(backward_chaining(cond, facts, rules) for cond in rule[\"if\"]):\n",
        "              return True\n",
        "    return False\n",
        "\n",
        "facts = {\"has_feathers\", \"has_small_wings\"}\n",
        "rules = [\n",
        "    {\"if\": {\"is_bird\", \"cannot_fly\"}, \"then\": \"is_penguin\"},\n",
        "    {\"if\": {\"has_feathers\"}, \"then\": \"is_bird\"},\n",
        "    {\"if\": {\"has_small_wings\"}, \"then\": \"cannot_fly\"},\n",
        "]\n",
        "\n",
        "goal = \"is_penguin\"\n",
        "result = backward_chaining(goal, facts, rules)\n",
        "print(f\"Is '{goal}' provable? ->\", result)"
      ],
      "metadata": {
        "colab": {
          "base_uri": "https://localhost:8080/"
        },
        "id": "CI7lH4mMagVS",
        "outputId": "c2eb91a1-4b98-4b59-dc17-d910f3315ec1"
      },
      "execution_count": 7,
      "outputs": [
        {
          "output_type": "stream",
          "name": "stdout",
          "text": [
            "Is 'is_penguin' provable? -> True\n"
          ]
        }
      ]
    }
  ]
}