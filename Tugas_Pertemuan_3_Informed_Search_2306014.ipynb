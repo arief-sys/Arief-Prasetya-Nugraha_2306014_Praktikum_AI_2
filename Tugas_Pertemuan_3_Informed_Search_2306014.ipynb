{
  "nbformat": 4,
  "nbformat_minor": 0,
  "metadata": {
    "colab": {
      "provenance": [],
      "authorship_tag": "ABX9TyOjp5bYR1LErlmUJMGtb0dE",
      "include_colab_link": true
    },
    "kernelspec": {
      "name": "python3",
      "display_name": "Python 3"
    },
    "language_info": {
      "name": "python"
    }
  },
  "cells": [
    {
      "cell_type": "markdown",
      "metadata": {
        "id": "view-in-github",
        "colab_type": "text"
      },
      "source": [
        "<a href=\"https://colab.research.google.com/github/arief-sys/Arief-Prasetya-Nugraha_2306014_Praktikum_AI_2/blob/main/Tugas_Pertemuan_3_Informed_Search_2306014.ipynb\" target=\"_parent\"><img src=\"https://colab.research.google.com/assets/colab-badge.svg\" alt=\"Open In Colab\"/></a>"
      ]
    },
    {
      "cell_type": "code",
      "execution_count": 8,
      "metadata": {
        "colab": {
          "base_uri": "https://localhost:8080/"
        },
        "id": "5id4KCKYUPnT",
        "outputId": "9a44d6a3-fd8e-4705-e717-75a0a435a37b"
      },
      "outputs": [
        {
          "output_type": "stream",
          "name": "stdout",
          "text": [
            "Simpul tujuan ditemukan\n",
            "Jalur terpendek: ['S', 'B', 'D', 'G']\n"
          ]
        },
        {
          "output_type": "execute_result",
          "data": {
            "text/plain": [
              "['S', 'B', 'D', 'G']"
            ]
          },
          "metadata": {},
          "execution_count": 8
        }
      ],
      "source": [
        "from queue import PriorityQueue\n",
        "\n",
        "def reconstructy_path(came_from, start, goal):\n",
        "    current = goal\n",
        "    path = []\n",
        "    while current != start:\n",
        "        path.append(current)\n",
        "        current = came_from[current]\n",
        "    path.append(start)\n",
        "    path.reverse()\n",
        "    return path\n",
        "\n",
        "def greedy_search(graph, start, goal, heuristic):\n",
        "    frontier = PriorityQueue()\n",
        "    frontier.put(((heuristic[start]), start))\n",
        "    came_from = {}\n",
        "    explored = set()\n",
        "\n",
        "    while not frontier.empty():\n",
        "        _, current = frontier.get()\n",
        "\n",
        "        if current == goal:\n",
        "            print(\"Simpul tujuan ditemukan\")\n",
        "            path = reconstructy_path(came_from, start, goal)\n",
        "            print(\"Jalur terpendek:\", path)\n",
        "            return path\n",
        "\n",
        "        explored.add(current)\n",
        "\n",
        "        for neighbor in graph.get(current, []):\n",
        "            if neighbor not in explored:\n",
        "                frontier.put((heuristic[neighbor], neighbor))\n",
        "                came_from[neighbor] = current\n",
        "\n",
        "    print(\"Simpul tujuan tidak ditemukan\")\n",
        "    return None\n",
        "\n",
        "heuristic = {\n",
        "    'A': 4,\n",
        "    'B': 3,\n",
        "    'C': 3,\n",
        "    'D': 1,\n",
        "    'S': 6,\n",
        "    'G': 0\n",
        "}\n",
        "\n",
        "graph = {\n",
        "    'S': ['A', 'B'],\n",
        "    'A': ['B', 'D'],\n",
        "    'B': ['C', 'D'],\n",
        "    'C': ['D', 'G'],\n",
        "    'D': ['G']\n",
        "}\n",
        "\n",
        "start_node = 'S'\n",
        "goal_state = 'G'\n",
        "\n",
        "greedy_search(graph, start_node, goal_state, heuristic)"
      ]
    },
    {
      "cell_type": "code",
      "source": [
        "from os import path\n",
        "from queue import PriorityQueue\n",
        "\n",
        "def a_star_tree_search(graph, start, goal, heuristic):\n",
        "    frontier = PriorityQueue()\n",
        "    frontier.put((0, start))\n",
        "    path = {}\n",
        "    cost_so_far = {start: 0}\n",
        "\n",
        "    while not frontier.empty():\n",
        "        _, current_node = frontier.get()\n",
        "\n",
        "        if current_node == goal:\n",
        "            print(\"Simpul tujuan ditemukan!\")\n",
        "            route = reconstruct_path(path, start, goal)\n",
        "            print(\"Jalur optimal:\", route)\n",
        "            return True\n",
        "\n",
        "        for neighbor, cost in graph[current_node].items():\n",
        "            new_cost = cost_so_far[current_node] + cost\n",
        "            cost_so_far[neighbor] = new_cost\n",
        "            priority = new_cost + heuristic[neighbor]\n",
        "            frontier.put((priority, neighbor))\n",
        "            path[neighbor] = current_node\n",
        "\n",
        "    print(\"Simpul tujuan tidak ditemukan.\")\n",
        "    return False\n",
        "\n",
        "def a_star_graph_search(graph, start, goal, heuristic):\n",
        "    frontier = PriorityQueue()\n",
        "    frontier.put((0, start))\n",
        "    explored = set()\n",
        "    path = {}\n",
        "    cost_so_far = {start: 0}\n",
        "\n",
        "    while not frontier.empty():\n",
        "        _, current_node = frontier.get()\n",
        "\n",
        "        if current_node == goal:\n",
        "            print(\"Simpul tujuan ditemukan!\")\n",
        "            route = reconstruct_path(path, start, goal)\n",
        "            print(\"Jalur optimal:\", route)\n",
        "            return True\n",
        "\n",
        "        explored.add(current_node)\n",
        "\n",
        "        for neighbor, cost in graph[current_node].items():\n",
        "            new_cost = cost_so_far[current_node] + cost\n",
        "            if neighbor not in explored or new_cost < cost_so_far.get(neighbor, float('inf')):\n",
        "                cost_so_far[neighbor] = new_cost\n",
        "                priority = new_cost + heuristic[neighbor]\n",
        "                frontier.put((priority, neighbor))\n",
        "                path[neighbor] = current_node\n",
        "\n",
        "    print(\"Simpul tujuan tidak ditemukan.\")\n",
        "    return False\n",
        "\n",
        "def reconstruct_path(path, start, goal):\n",
        "    current = goal\n",
        "    route = [current]\n",
        "    while current != start:\n",
        "        current = path[current]\n",
        "        route.append(current)\n",
        "    route.reverse()\n",
        "    return route\n",
        "\n",
        "heuristic = {\n",
        "    'A': 4,\n",
        "    'B': 3,\n",
        "    'C': 3,\n",
        "    'D': 1,\n",
        "    'S': 6,\n",
        "    'G': 0\n",
        "}\n",
        "\n",
        "graph = {\n",
        "    'S': {'A': 3, 'B': 2},\n",
        "    'A': {'B': 1, 'D': 5},\n",
        "    'B': {'C': 2, 'D': 3},\n",
        "    'C': {'D': 3, 'G': 4},\n",
        "    'D': {'G': 1}\n",
        "}\n",
        "\n",
        "start_node = 'S'\n",
        "goal_state = 'G'\n",
        "\n",
        "a_star_tree_search(graph, start_node, goal_state, heuristic)\n",
        "a_star_graph_search(graph, start_node, goal_state, heuristic)"
      ],
      "metadata": {
        "id": "kL9xuqdolrlX",
        "colab": {
          "base_uri": "https://localhost:8080/"
        },
        "outputId": "a4d17b17-6986-4d6a-d1b2-ec8a799902bc"
      },
      "execution_count": 9,
      "outputs": [
        {
          "output_type": "stream",
          "name": "stdout",
          "text": [
            "Simpul tujuan ditemukan!\n",
            "Jalur optimal: ['S', 'B', 'D', 'G']\n",
            "Simpul tujuan ditemukan!\n",
            "Jalur optimal: ['S', 'B', 'D', 'G']\n"
          ]
        },
        {
          "output_type": "execute_result",
          "data": {
            "text/plain": [
              "True"
            ]
          },
          "metadata": {},
          "execution_count": 9
        }
      ]
    }
  ]
}